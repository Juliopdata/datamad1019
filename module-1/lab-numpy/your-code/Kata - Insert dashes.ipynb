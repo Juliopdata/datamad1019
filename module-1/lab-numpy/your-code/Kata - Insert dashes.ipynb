{
 "cells": [
  {
   "cell_type": "code",
   "execution_count": 5,
   "metadata": {},
   "outputs": [
    {
     "name": "stdout",
     "output_type": "stream",
     "text": [
      "4547-9-3 4547-9-3\n",
      "123456 123456\n",
      "1003-567 1003-567\n",
      "24680 24680\n",
      "1-3-5-7-9 1-3-5-7-9\n"
     ]
    }
   ],
   "source": [
    "def insert_dash(num):\n",
    "    b = list(str(num))\n",
    "    s = \"\"\n",
    "    v = \"\"\n",
    "    \n",
    "    for e in b:\n",
    "    \te = int(e)\n",
    "    \tif e % 2 == 0:\n",
    "    \t\ts += str(e)\n",
    "    \telif e % 2 != 0:\n",
    "    \t\ts += str(e) + \"-\"\t\n",
    "    \n",
    "    s = (s.strip(\"-\"))\n",
    "    #s[e]==\"-\" and\n",
    "    s = list(s)\n",
    "    for e in range(len(s)-1):\n",
    "        try:\n",
    "    \t    if (s[e]==\"-\") and (int(s[e+1])%2==0):\n",
    "    \t\t    s.pop(e)\n",
    "        except:\n",
    "            pass\n",
    "    for e in s:\n",
    "    \tv += e\n",
    "    return v\n",
    "\n",
    "print(insert_dash(454793),'4547-9-3')\n",
    "print(insert_dash(123456),'123456')\n",
    "print(insert_dash(1003567),'1003-567')\n",
    "print(insert_dash(24680),'24680')\n",
    "print(insert_dash(13579),'1-3-5-7-9')"
   ]
  },
  {
   "cell_type": "code",
   "execution_count": null,
   "metadata": {},
   "outputs": [],
   "source": []
  }
 ],
 "metadata": {
  "kernelspec": {
   "display_name": "Python 3",
   "language": "python",
   "name": "python3"
  },
  "language_info": {
   "codemirror_mode": {
    "name": "ipython",
    "version": 3
   },
   "file_extension": ".py",
   "mimetype": "text/x-python",
   "name": "python",
   "nbconvert_exporter": "python",
   "pygments_lexer": "ipython3",
   "version": "3.7.5rc1"
  }
 },
 "nbformat": 4,
 "nbformat_minor": 2
}
